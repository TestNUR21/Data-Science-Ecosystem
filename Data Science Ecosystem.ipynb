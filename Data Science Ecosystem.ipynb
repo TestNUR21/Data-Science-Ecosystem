{
 "cells": [
  {
   "attachments": {},
   "cell_type": "markdown",
   "id": "08933ecb-a09c-459a-a211-4e5577daf17a",
   "metadata": {},
   "source": [
    "# **Data Science Tools and Ecosystem** "
   ]
  },
  {
   "cell_type": "markdown",
   "id": "dbe09b63-ac13-42cc-9387-352e7d4ff8f3",
   "metadata": {},
   "source": [
    "__Introduction__\n",
    "\n",
    "Data science, a rapidly evolving field, heavily relies on a diverse set of tools to extract insights from data. These tools create an interconnected ecosystem that seamlessly integrates various processes, from data collection to analysis, visualization, and model deployment. At the core of this ecosystem are programming languages like Python and R, along with libraries such as pandas, NumPy, and scikit-learn, enabling data scientists to clean, manipulate, and analyze data efficiently."
   ]
  },
  {
   "cell_type": "markdown",
   "id": "458968ae-367a-4c3c-b0bd-7418c5528b01",
   "metadata": {},
   "source": [
    "__Objectives__\n",
    "\n",
    "- lear how to use R\n",
    "- learn how to use Jupyter Notebook\n",
    "- learn how to use github\n",
    "- get to know more about tools used by data science"
   ]
  },
  {
   "cell_type": "markdown",
   "id": "e8a58731-bd51-4432-8d2b-70dd82c5d481",
   "metadata": {},
   "source": [
    "## __AUTHOR__\n",
    "\n",
    "NURWAHYUDIN MARHUM"
   ]
  },
  {
   "cell_type": "markdown",
   "id": "31423ecc-6414-42b4-b959-8748ea52ca9d",
   "metadata": {},
   "source": [
    " __Data Science Languages__\n",
    " \n",
    "Data science employs programming languages to enable sophisticated and complex data analysis, automate data processing tasks, ensure reproducibility of analyses, and handle large datasets efficiently. And below are programming languages ​​that are often used by data scientists.\n",
    "\n",
    "1. __Phython__\n",
    "\n",
    "    Python is widely favored in data science for its simplicity and versatility. It offers a rich ecosystem of libraries like NumPy, Pandas, etc. making it ideal for data manipulation, analysis, and visualization. Its readability and ease of integration with other languages make it a top choice for both beginners and seasoned data scientists.\n",
    "2. __R__\n",
    "\n",
    "    R is specifically designed for statistical computing and data analysis. It provides a comprehensive set of packages, such as ggplot2 for data visualization and dplyr for data manipulation. R's strength lies in its statistical modeling capabilities, making it popular among statisticians and researchers who focus on complex data analysis and visualization tasks.\n",
    "3. __SQL__\n",
    "\n",
    "   SQL is essential for managing and querying structured data in relational databases. While not a programming language in the traditional sense, its importance in data science cannot be overstated. Data scientists use SQL to extract, manipulate, and analyze data stored in databases, enabling efficient data retrieval and aggregation operations.\n",
    "\n",
    "\n",
    "\n",
    "\n"
   ]
  },
  {
   "cell_type": "markdown",
   "id": "617e2ddf-267c-4e62-8912-50ba59ae0326",
   "metadata": {},
   "source": [
    "**libraries used by Data Scientists**\n",
    "\n",
    "Data science in libraries involves applying data analysis techniques to library operations, such as understanding patron behavior, optimizing collections, and improving services. Libraries use data science to enhance user experience, make data-driven decisions, and manage resources effectively. It encompasses various methods like data mining, machine learning, and statistical analysis to extract insights and improve overall library services and management.And below are libraries ​​that are often used by data scientists.\n",
    "\n",
    "1. __Pandas__\n",
    "\n",
    "   Pandas is indispensable for its ability to handle data manipulation and analysis tasks with ease, thanks to its powerful data structures like DataFrames and Series. It simplifies tasks such as data cleaning, transformation, and exploratory data analysis (EDA), making it a go-to choice for data scientists working with structured data.\n",
    "\n",
    "2. __NumPy__\n",
    "\n",
    "   NumPy serves as the foundation for numerical computing in Python, providing support for large arrays and matrices, along with a rich collection of mathematical functions. It's crucial for performing numerical operations, such as linear algebra computations, statistical analysis, and generating random numbers, essential for various data science tasks.\n",
    "\n",
    "3. __Scikit-learn__\n",
    "\n",
    "   Scikit-learn is a versatile machine learning library that offers a wide array of supervised and unsupervised learning algorithms. It's renowned for its user-friendly API, making it accessible for both beginners and experts alike. Scikit-learn is extensively used for tasks like classification, regression, clustering, and model evaluation, making it an integral part of the data science toolkit.\n",
    "\n",
    "\n"
   ]
  },
  {
   "cell_type": "markdown",
   "id": "884115a0-50c2-4ec5-a0f4-b7de89134046",
   "metadata": {},
   "source": [
    "**Data Science Tools**\n",
    "|Open Source Tools|\n",
    "| ---------------- |\n",
    "|Jupyter Notebook|\n",
    "|R'studios|\n",
    "|Tensorflow|"
   ]
  },
  {
   "cell_type": "markdown",
   "id": "0ccf8faf-80f9-45ee-a55c-6c873adef42f",
   "metadata": {},
   "source": [
    "### __Below are a few examples of evaluating arithmetic expressions in Python__\n",
    "\n",
    "This a simple arithmetic expression to mutiply then add integers."
   ]
  },
  {
   "cell_type": "code",
   "execution_count": 13,
   "id": "629cdb67-c498-4f11-8e06-9f3db218b069",
   "metadata": {},
   "outputs": [
    {
     "data": {
      "text/plain": [
       "17"
      ]
     },
     "execution_count": 13,
     "metadata": {},
     "output_type": "execute_result"
    }
   ],
   "source": [
    "\n",
    "(4*3)+5"
   ]
  },
  {
   "cell_type": "code",
   "execution_count": 10,
   "id": "7ed02b47-63df-412b-a4af-575dc275feb3",
   "metadata": {},
   "outputs": [
    {
     "data": {
      "text/plain": [
       "3.3333333333333335"
      ]
     },
     "execution_count": 10,
     "metadata": {},
     "output_type": "execute_result"
    }
   ],
   "source": [
    "200/60"
   ]
  }
 ],
 "metadata": {
  "kernelspec": {
   "display_name": "Python 3 (ipykernel)",
   "language": "python",
   "name": "python3"
  },
  "language_info": {
   "codemirror_mode": {
    "name": "ipython",
    "version": 3
   },
   "file_extension": ".py",
   "mimetype": "text/x-python",
   "name": "python",
   "nbconvert_exporter": "python",
   "pygments_lexer": "ipython3",
   "version": "3.12.4"
  }
 },
 "nbformat": 4,
 "nbformat_minor": 5
}
